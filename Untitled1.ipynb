{
  "nbformat": 4,
  "nbformat_minor": 0,
  "metadata": {
    "colab": {
      "name": "Untitled1.ipynb",
      "provenance": [],
      "authorship_tag": "ABX9TyMz43dN6PQ2d2ZWsMdfoF0F",
      "include_colab_link": true
    },
    "kernelspec": {
      "name": "python3",
      "display_name": "Python 3"
    },
    "language_info": {
      "name": "python"
    }
  },
  "cells": [
    {
      "cell_type": "markdown",
      "metadata": {
        "id": "view-in-github",
        "colab_type": "text"
      },
      "source": [
        "<a href=\"https://colab.research.google.com/github/kumaryu-w/dr/blob/main/Untitled1.ipynb\" target=\"_parent\"><img src=\"https://colab.research.google.com/assets/colab-badge.svg\" alt=\"Open In Colab\"/></a>"
      ]
    },
    {
      "cell_type": "code",
      "execution_count": 1,
      "metadata": {
        "id": "pfrsibF2SETc"
      },
      "outputs": [],
      "source": [
        "# Install RDKit.\n",
        "%%capture\n",
        "!pip install rdkit-pypi"
      ]
    },
    {
      "cell_type": "code",
      "source": [
        "from rdkit import Chem\n",
        "from rdkit.Chem import Draw\n",
        "from rdkit.Chem.Draw import IPythonConsole\n",
        "from rdkit.Chem import Descriptors\n",
        "from rdkit.Chem import AllChem\n",
        "from rdkit import DataStructs\n",
        "import numpy as np"
      ],
      "metadata": {
        "id": "r4psNenRSHMv"
      },
      "execution_count": 2,
      "outputs": []
    },
    {
      "cell_type": "code",
      "source": [
        "mol_name=input(\"ファイル名＞\")\n",
        "mol=Chem.MolFromMolFile(f'{mol_name}.mol')\n",
        "mol=AllChem.AddHs(mol)\n",
        "AllChem.EmbedMolecule(mol,randomSeed=0xf00d)\n",
        "print(Chem.MolToMolBlock(mol),file=open(f'{mol_name}_1.mol','w+'))"
      ],
      "metadata": {
        "id": "4PA-pf4tSMiT"
      },
      "execution_count": null,
      "outputs": []
    }
  ]
}